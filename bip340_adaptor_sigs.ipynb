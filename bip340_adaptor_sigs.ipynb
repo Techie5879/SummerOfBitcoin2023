{
 "cells": [
  {
   "cell_type": "markdown",
   "metadata": {},
   "source": [
    "### Imports, constants and settings"
   ]
  },
  {
   "cell_type": "code",
   "execution_count": 22,
   "metadata": {},
   "outputs": [],
   "source": [
    "from typing import Tuple, Optional, Any\n",
    "import hashlib\n",
    "import binascii"
   ]
  },
  {
   "cell_type": "code",
   "execution_count": 23,
   "metadata": {},
   "outputs": [],
   "source": [
    "\n",
    "# Set DEBUG to True to get a detailed debug output including\n",
    "# intermediate values during key generation, signing, and\n",
    "# verification. This is implemented via calls to the\n",
    "# debug_print_vars() function.\n",
    "#\n",
    "# If you want to print values on an individual basis, use\n",
    "# the pretty() function, e.g., print(pretty(foo)).\n",
    "DEBUG = True"
   ]
  },
  {
   "cell_type": "code",
   "execution_count": 24,
   "metadata": {},
   "outputs": [],
   "source": [
    "\n",
    "p = 0xFFFFFFFFFFFFFFFFFFFFFFFFFFFFFFFFFFFFFFFFFFFFFFFFFFFFFFFEFFFFFC2F\n",
    "n = 0xFFFFFFFFFFFFFFFFFFFFFFFFFFFFFFFEBAAEDCE6AF48A03BBFD25E8CD0364141\n",
    "\n",
    "# Points are tuples of X and Y coordinates and the point at infinity is\n",
    "# represented by the None keyword.\n",
    "G = (0x79BE667EF9DCBBAC55A06295CE870B07029BFCDB2DCE28D959F2815B16F81798, 0x483ADA7726A3C4655DA4FBFC0E1108A8FD17B448A68554199C47D08FFB10D4B8)\n"
   ]
  },
  {
   "cell_type": "code",
   "execution_count": 25,
   "metadata": {},
   "outputs": [
    {
     "data": {
      "text/plain": [
       "115792089237316195423570985008687907853269984665640564039457584007908834671663"
      ]
     },
     "execution_count": 25,
     "metadata": {},
     "output_type": "execute_result"
    }
   ],
   "source": [
    "p"
   ]
  },
  {
   "cell_type": "code",
   "execution_count": 26,
   "metadata": {},
   "outputs": [
    {
     "data": {
      "text/plain": [
       "115792089237316195423570985008687907852837564279074904382605163141518161494337"
      ]
     },
     "execution_count": 26,
     "metadata": {},
     "output_type": "execute_result"
    }
   ],
   "source": [
    "n"
   ]
  },
  {
   "cell_type": "code",
   "execution_count": 27,
   "metadata": {},
   "outputs": [
    {
     "data": {
      "text/plain": [
       "(55066263022277343669578718895168534326250603453777594175500187360389116729240,\n",
       " 32670510020758816978083085130507043184471273380659243275938904335757337482424)"
      ]
     },
     "execution_count": 27,
     "metadata": {},
     "output_type": "execute_result"
    }
   ],
   "source": [
    "G"
   ]
  },
  {
   "cell_type": "code",
   "execution_count": 28,
   "metadata": {},
   "outputs": [
    {
     "data": {
      "text/plain": [
       "typing.Tuple[int, int]"
      ]
     },
     "execution_count": 28,
     "metadata": {},
     "output_type": "execute_result"
    }
   ],
   "source": [
    "Point = Tuple[int, int]\n",
    "Point"
   ]
  },
  {
   "cell_type": "code",
   "execution_count": 29,
   "metadata": {},
   "outputs": [],
   "source": [
    "# This implementation can be sped up by storing the midstate after hashing\n",
    "# tag_hash instead of rehashing it all the time.\n",
    "def tagged_hash(tag: str, msg: bytes) -> bytes:\n",
    "    tag_hash = hashlib.sha256(tag.encode()).digest()\n",
    "    return hashlib.sha256(tag_hash + tag_hash + msg).digest()\n"
   ]
  },
  {
   "cell_type": "code",
   "execution_count": 30,
   "metadata": {},
   "outputs": [
    {
     "data": {
      "text/plain": [
       "'379e0663cf310fb6b228f429f190aa1fe3c0b4ac37fe603a8b1a30fa025e9d34'"
      ]
     },
     "execution_count": 30,
     "metadata": {},
     "output_type": "execute_result"
    }
   ],
   "source": [
    "tag = \"example_tag\"\n",
    "message = b\"This is an example message\"\n",
    "\n",
    "tagged_hash_value = tagged_hash(tag, message)\n",
    "tagged_hash_value.hex()"
   ]
  },
  {
   "cell_type": "code",
   "execution_count": 31,
   "metadata": {},
   "outputs": [],
   "source": [
    "def is_infinite(P: Optional[Point]) -> bool:\n",
    "    return P is None"
   ]
  },
  {
   "cell_type": "code",
   "execution_count": 32,
   "metadata": {},
   "outputs": [
    {
     "name": "stdout",
     "output_type": "stream",
     "text": [
      "False\n",
      "True\n"
     ]
    }
   ],
   "source": [
    "P1: Optional[Point] = (1, 2)\n",
    "P2: Optional[Point] = None\n",
    "\n",
    "print(is_infinite(P1)) # Output: False\n",
    "print(is_infinite(P2)) # Output: True"
   ]
  },
  {
   "cell_type": "code",
   "execution_count": 33,
   "metadata": {},
   "outputs": [],
   "source": [
    "def x(P: Point) -> int:\n",
    "    assert not is_infinite(P)\n",
    "    return P[0]\n",
    "\n",
    "# if is_infinite, returns assertionerror\n",
    "# else returns P[0]"
   ]
  },
  {
   "cell_type": "code",
   "execution_count": 34,
   "metadata": {},
   "outputs": [],
   "source": [
    "def y(P: Point) -> int:\n",
    "    assert not is_infinite(P)\n",
    "    return P[1]\n",
    "\n",
    "# if is_infinite, returns assertionerror\n",
    "# else returns P[1]"
   ]
  },
  {
   "cell_type": "code",
   "execution_count": 35,
   "metadata": {},
   "outputs": [],
   "source": [
    "# point addition function\n",
    "def point_add(P1: Optional[Point], P2: Optional[Point]) -> Optional[Point]:\n",
    "    if P1 is None:\n",
    "        return P2\n",
    "    # returns p2 if p1 is none\n",
    "    if P2 is None:\n",
    "        return P1\n",
    "    # returns p1 if p2 is none\n",
    "    if (x(P1) == x(P2)) and (y(P1) != y(P2)):\n",
    "        return None\n",
    "    # if x(p1) and x(p2) are equal, and y(p1) and y(p2) arent equal, return none \n",
    "    # This corresponds to a situation where the two points are vertically aligned and cannot be added together.\n",
    "    if P1 == P2:\n",
    "        lam = (3 * x(P1) * x(P1) * pow(2 * y(P1), p - 2, p)) % p\n",
    "    else:\n",
    "        lam = ((y(P2) - y(P1)) * pow(x(P2) - x(P1), p - 2, p)) % p\n",
    "    x3 = (lam * lam - x(P1) - x(P2)) % p\n",
    "    return (x3, (lam * (x(P1) - x3) - y(P1)) % p)"
   ]
  },
  {
   "cell_type": "code",
   "execution_count": 36,
   "metadata": {},
   "outputs": [],
   "source": [
    "# multiply a point by an integer, uses the point_add function\n",
    "def point_mul(P: Optional[Point], n: int) -> Optional[Point]:\n",
    "    R = None\n",
    "    for i in range(256):\n",
    "        if (n >> i) & 1:\n",
    "            R = point_add(R, P)\n",
    "        P = point_add(P, P)\n",
    "    return R"
   ]
  }
 ],
 "metadata": {
  "kernelspec": {
   "display_name": "base",
   "language": "python",
   "name": "python3"
  },
  "language_info": {
   "codemirror_mode": {
    "name": "ipython",
    "version": 3
   },
   "file_extension": ".py",
   "mimetype": "text/x-python",
   "name": "python",
   "nbconvert_exporter": "python",
   "pygments_lexer": "ipython3",
   "version": "3.9.17"
  },
  "orig_nbformat": 4
 },
 "nbformat": 4,
 "nbformat_minor": 2
}
