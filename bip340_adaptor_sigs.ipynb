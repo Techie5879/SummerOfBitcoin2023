{
 "cells": [
  {
   "cell_type": "markdown",
   "metadata": {},
   "source": [
    "### Imports, constants and settings"
   ]
  },
  {
   "cell_type": "code",
   "execution_count": 86,
   "metadata": {},
   "outputs": [],
   "source": [
    "from typing import Tuple, Optional, Any\n",
    "import hashlib\n",
    "import binascii"
   ]
  },
  {
   "cell_type": "code",
   "execution_count": 87,
   "metadata": {},
   "outputs": [],
   "source": [
    "\n",
    "# Set DEBUG to True to get a detailed debug output including\n",
    "# intermediate values during key generation, signing, and\n",
    "# verification. This is implemented via calls to the\n",
    "# debug_print_vars() function.\n",
    "#\n",
    "# If you want to print values on an individual basis, use\n",
    "# the pretty() function, e.g., print(pretty(foo)).\n",
    "DEBUG = True"
   ]
  },
  {
   "cell_type": "code",
   "execution_count": 88,
   "metadata": {},
   "outputs": [],
   "source": [
    "\n",
    "p = 0xFFFFFFFFFFFFFFFFFFFFFFFFFFFFFFFFFFFFFFFFFFFFFFFFFFFFFFFEFFFFFC2F\n",
    "n = 0xFFFFFFFFFFFFFFFFFFFFFFFFFFFFFFFEBAAEDCE6AF48A03BBFD25E8CD0364141\n",
    "\n",
    "# Points are tuples of X and Y coordinates and the point at infinity is\n",
    "# represented by the None keyword.\n",
    "G = (0x79BE667EF9DCBBAC55A06295CE870B07029BFCDB2DCE28D959F2815B16F81798, 0x483ADA7726A3C4655DA4FBFC0E1108A8FD17B448A68554199C47D08FFB10D4B8)\n"
   ]
  },
  {
   "cell_type": "code",
   "execution_count": 89,
   "metadata": {},
   "outputs": [
    {
     "data": {
      "text/plain": [
       "115792089237316195423570985008687907853269984665640564039457584007908834671663"
      ]
     },
     "execution_count": 89,
     "metadata": {},
     "output_type": "execute_result"
    }
   ],
   "source": [
    "p"
   ]
  },
  {
   "cell_type": "code",
   "execution_count": 90,
   "metadata": {},
   "outputs": [
    {
     "data": {
      "text/plain": [
       "115792089237316195423570985008687907852837564279074904382605163141518161494337"
      ]
     },
     "execution_count": 90,
     "metadata": {},
     "output_type": "execute_result"
    }
   ],
   "source": [
    "n"
   ]
  },
  {
   "cell_type": "code",
   "execution_count": 91,
   "metadata": {},
   "outputs": [
    {
     "data": {
      "text/plain": [
       "(55066263022277343669578718895168534326250603453777594175500187360389116729240,\n",
       " 32670510020758816978083085130507043184471273380659243275938904335757337482424)"
      ]
     },
     "execution_count": 91,
     "metadata": {},
     "output_type": "execute_result"
    }
   ],
   "source": [
    "G"
   ]
  },
  {
   "cell_type": "code",
   "execution_count": 92,
   "metadata": {},
   "outputs": [
    {
     "data": {
      "text/plain": [
       "typing.Tuple[int, int]"
      ]
     },
     "execution_count": 92,
     "metadata": {},
     "output_type": "execute_result"
    }
   ],
   "source": [
    "Point = Tuple[int, int]\n",
    "Point"
   ]
  },
  {
   "cell_type": "code",
   "execution_count": 93,
   "metadata": {},
   "outputs": [],
   "source": [
    "# This implementation can be sped up by storing the midstate after hashing\n",
    "# tag_hash instead of rehashing it all the time.\n",
    "def tagged_hash(tag: str, msg: bytes) -> bytes:\n",
    "    tag_hash = hashlib.sha256(tag.encode()).digest()\n",
    "    return hashlib.sha256(tag_hash + tag_hash + msg).digest()\n"
   ]
  },
  {
   "cell_type": "code",
   "execution_count": 94,
   "metadata": {},
   "outputs": [
    {
     "data": {
      "text/plain": [
       "'379e0663cf310fb6b228f429f190aa1fe3c0b4ac37fe603a8b1a30fa025e9d34'"
      ]
     },
     "execution_count": 94,
     "metadata": {},
     "output_type": "execute_result"
    }
   ],
   "source": [
    "tag = \"example_tag\"\n",
    "message = b\"This is an example message\"\n",
    "\n",
    "tagged_hash_value = tagged_hash(tag, message)\n",
    "tagged_hash_value.hex()"
   ]
  },
  {
   "cell_type": "code",
   "execution_count": 95,
   "metadata": {},
   "outputs": [],
   "source": [
    "def is_infinite(P: Optional[Point]) -> bool:\n",
    "    return P is None"
   ]
  },
  {
   "cell_type": "code",
   "execution_count": 96,
   "metadata": {},
   "outputs": [
    {
     "name": "stdout",
     "output_type": "stream",
     "text": [
      "False\n",
      "True\n"
     ]
    }
   ],
   "source": [
    "P1: Optional[Point] = (1, 2)\n",
    "P2: Optional[Point] = None\n",
    "\n",
    "print(is_infinite(P1)) # Output: False\n",
    "print(is_infinite(P2)) # Output: True"
   ]
  },
  {
   "cell_type": "code",
   "execution_count": 97,
   "metadata": {},
   "outputs": [],
   "source": [
    "def x(P: Point) -> int:\n",
    "    assert not is_infinite(P)\n",
    "    return P[0]\n",
    "\n",
    "# if is_infinite, returns assertionerror\n",
    "# else returns P[0]"
   ]
  },
  {
   "cell_type": "code",
   "execution_count": 98,
   "metadata": {},
   "outputs": [],
   "source": [
    "def y(P: Point) -> int:\n",
    "    assert not is_infinite(P)\n",
    "    return P[1]\n",
    "\n",
    "# if is_infinite, returns assertionerror\n",
    "# else returns P[1]"
   ]
  },
  {
   "cell_type": "code",
   "execution_count": 99,
   "metadata": {},
   "outputs": [],
   "source": [
    "# point addition function\n",
    "def point_add(P1: Optional[Point], P2: Optional[Point]) -> Optional[Point]:\n",
    "    if P1 is None:\n",
    "        return P2\n",
    "    # returns p2 if p1 is none\n",
    "    if P2 is None:\n",
    "        return P1\n",
    "    # returns p1 if p2 is none\n",
    "    if (x(P1) == x(P2)) and (y(P1) != y(P2)):\n",
    "        return None\n",
    "    # if x(p1) and x(p2) are equal, and y(p1) and y(p2) arent equal, return none \n",
    "    # This corresponds to a situation where the two points are vertically aligned and cannot be added together.\n",
    "    if P1 == P2:\n",
    "        lam = (3 * x(P1) * x(P1) * pow(2 * y(P1), p - 2, p)) % p\n",
    "    else:\n",
    "        lam = ((y(P2) - y(P1)) * pow(x(P2) - x(P1), p - 2, p)) % p\n",
    "    x3 = (lam * lam - x(P1) - x(P2)) % p\n",
    "    return (x3, (lam * (x(P1) - x3) - y(P1)) % p)"
   ]
  },
  {
   "cell_type": "code",
   "execution_count": 100,
   "metadata": {},
   "outputs": [],
   "source": [
    "# multiply a point by an integer, uses the point_add function\n",
    "def point_mul(P: Optional[Point], n: int) -> Optional[Point]:\n",
    "    R = None\n",
    "    for i in range(256):\n",
    "        if (n >> i) & 1:\n",
    "            R = point_add(R, P)\n",
    "        P = point_add(P, P)\n",
    "    return R"
   ]
  },
  {
   "cell_type": "code",
   "execution_count": 101,
   "metadata": {},
   "outputs": [],
   "source": [
    "# Returns bytes from an integer, 32 byte form\n",
    "def bytes_from_int(x: int) -> bytes:\n",
    "    return x.to_bytes(32, byteorder=\"big\")"
   ]
  },
  {
   "cell_type": "code",
   "execution_count": 102,
   "metadata": {},
   "outputs": [
    {
     "name": "stdout",
     "output_type": "stream",
     "text": [
      "Length is:  32\n"
     ]
    },
    {
     "data": {
      "text/plain": [
       "8327589273957892"
      ]
     },
     "execution_count": 102,
     "metadata": {},
     "output_type": "execute_result"
    }
   ],
   "source": [
    "heloo = bytes_from_int(8327589273957892)\n",
    "print(\"Length is: \", len(heloo))\n",
    "int(heloo.hex(), 16)"
   ]
  },
  {
   "cell_type": "code",
   "execution_count": 103,
   "metadata": {},
   "outputs": [],
   "source": [
    "# Returns bytes from the x coordinate of the Point P\n",
    "def bytes_from_point(P: Point) -> bytes:\n",
    "    return bytes_from_int(x(P))"
   ]
  },
  {
   "cell_type": "code",
   "execution_count": 104,
   "metadata": {},
   "outputs": [
    {
     "data": {
      "text/plain": [
       "32"
      ]
     },
     "execution_count": 104,
     "metadata": {},
     "output_type": "execute_result"
    }
   ],
   "source": [
    "test1 = bytes_from_point(G)\n",
    "len(test1)\n",
    "# So bytes_from_point returns a 32 byte string"
   ]
  },
  {
   "cell_type": "code",
   "execution_count": 105,
   "metadata": {},
   "outputs": [],
   "source": [
    "# Takes two byte objects and returns the byte object that is the object obtained by XORing their corresponding bytes\n",
    "def xor_bytes(b0: bytes, b1: bytes) -> bytes:\n",
    "    return bytes(x ^ y for (x, y) in zip(b0, b1))"
   ]
  },
  {
   "cell_type": "code",
   "execution_count": 106,
   "metadata": {},
   "outputs": [],
   "source": [
    "# Computes the y coordinate of an object given x, and returns the Point (x, y)\n",
    "def lift_x(x: int) -> Optional[Point]:\n",
    "    if x >= p:\n",
    "        return None\n",
    "    y_sq = (pow(x, 3, p) + 7) % p\n",
    "    y = pow(y_sq, (p + 1) // 4, p)\n",
    "    if pow(y, 2, p) != y_sq:\n",
    "        return None\n",
    "    return (x, y if y & 1 == 0 else p-y)"
   ]
  },
  {
   "cell_type": "code",
   "execution_count": 107,
   "metadata": {},
   "outputs": [
    {
     "name": "stdout",
     "output_type": "stream",
     "text": [
      "0x483ada7726a3c4655da4fbfc0e1108a8fd17b448a68554199c47d08ffb10d4b8\n"
     ]
    }
   ],
   "source": [
    "test_x = 0x79BE667EF9DCBBAC55A06295CE870B07029BFCDB2DCE28D959F2815B16F81798 # x coordinate of G\n",
    "point = lift_x(test_x)\n",
    "print(hex(point[1]))"
   ]
  },
  {
   "cell_type": "code",
   "execution_count": 108,
   "metadata": {},
   "outputs": [],
   "source": [
    "# Generates int from bytes\n",
    "def int_from_bytes(b: bytes) -> int:\n",
    "    return int.from_bytes(b, byteorder=\"big\")"
   ]
  },
  {
   "cell_type": "code",
   "execution_count": 109,
   "metadata": {},
   "outputs": [
    {
     "data": {
      "text/plain": [
       "1"
      ]
     },
     "execution_count": 109,
     "metadata": {},
     "output_type": "execute_result"
    }
   ],
   "source": [
    "hello = b'\\x00\\x00\\x00\\x01'\n",
    "test_final = int_from_bytes(hello)\n",
    "test_final"
   ]
  },
  {
   "cell_type": "code",
   "execution_count": 110,
   "metadata": {},
   "outputs": [],
   "source": [
    "# SHA256 hash of a byte string\n",
    "def hash_sha256(b: bytes) -> bytes:\n",
    "    return hashlib.sha256(b).digest()"
   ]
  },
  {
   "cell_type": "code",
   "execution_count": 111,
   "metadata": {},
   "outputs": [
    {
     "data": {
      "text/plain": [
       "b'd\\xec\\x88\\xca\\x00\\xb2h\\xe5\\xba\\x1a5g\\x8a\\x1bS\\x16\\xd2\\x12\\xf4\\xf3f\\xb2Gr2SJ\\x8a\\xec\\xa3\\x7f<'"
      ]
     },
     "execution_count": 111,
     "metadata": {},
     "output_type": "execute_result"
    }
   ],
   "source": [
    "msg = b\"Hello world\"\n",
    "test = hash_sha256(msg)\n",
    "test"
   ]
  },
  {
   "cell_type": "code",
   "execution_count": 112,
   "metadata": {},
   "outputs": [],
   "source": [
    "# If y of a point P (x,y) is EVEN, returns True, else returns False\n",
    "def has_even_y(P: Point) -> bool:\n",
    "    assert not is_infinite(P)\n",
    "    return y(P) % 2 == 0"
   ]
  },
  {
   "cell_type": "code",
   "execution_count": 85,
   "metadata": {},
   "outputs": [],
   "source": [
    "# Generates a public key from a given private key (secret key) in byte string form\n",
    "def pubkey_gen(seckey: bytes) -> bytes:\n",
    "    d0 = int_from_bytes(seckey)\n",
    "    if not (1 <= d0 <= n - 1):\n",
    "        raise ValueError('The secret key must be an integer in the range 1..n-1.')\n",
    "    P = point_mul(G, d0)\n",
    "    assert P is not None\n",
    "    return bytes_from_point(P)"
   ]
  },
  {
   "cell_type": "code",
   "execution_count": null,
   "metadata": {},
   "outputs": [],
   "source": [
    "def schnorr_sign(msg: bytes, seckey: bytes, aux_rand: bytes) -> bytes:\n",
    "    if len(msg) != 32:\n",
    "        raise ValueError('The message must be a 32-byte array.')\n",
    "    d0 = int_from_bytes(seckey)\n",
    "    if not (1 <= d0 <= n - 1):\n",
    "        raise ValueError('The secret key must be an integer in the range 1..n-1.')\n",
    "    if len(aux_rand) != 32:\n",
    "        raise ValueError('aux_rand must be 32 bytes instead of %i.' % len(aux_rand))\n",
    "    P = point_mul(G, d0)\n",
    "    assert P is not None\n",
    "    d = d0 if has_even_y(P) else n - d0\n",
    "    t = xor_bytes(bytes_from_int(d), tagged_hash(\"BIP0340/aux\", aux_rand))\n",
    "    k0 = int_from_bytes(tagged_hash(\"BIP0340/nonce\", t + bytes_from_point(P) + msg)) % n\n",
    "    if k0 == 0:\n",
    "        raise RuntimeError('Failure. This happens only with negligible probability.')\n",
    "    R = point_mul(G, k0)\n",
    "    assert R is not None\n",
    "    k = n - k0 if not has_even_y(R) else k0\n",
    "    e = int_from_bytes(tagged_hash(\"BIP0340/challenge\", bytes_from_point(R) + bytes_from_point(P) + msg)) % n\n",
    "    sig = bytes_from_point(R) + bytes_from_int((k + e * d) % n)\n",
    "    debug_print_vars()\n",
    "    if not schnorr_verify(msg, bytes_from_point(P), sig):\n",
    "        raise RuntimeError('The created signature does not pass verification.')\n",
    "    return sig\n"
   ]
  }
 ],
 "metadata": {
  "kernelspec": {
   "display_name": "base",
   "language": "python",
   "name": "python3"
  },
  "language_info": {
   "codemirror_mode": {
    "name": "ipython",
    "version": 3
   },
   "file_extension": ".py",
   "mimetype": "text/x-python",
   "name": "python",
   "nbconvert_exporter": "python",
   "pygments_lexer": "ipython3",
   "version": "3.9.17"
  },
  "orig_nbformat": 4
 },
 "nbformat": 4,
 "nbformat_minor": 2
}
